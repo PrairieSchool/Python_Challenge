{
 "cells": [
  {
   "cell_type": "code",
   "execution_count": 3,
   "metadata": {},
   "outputs": [
    {
     "name": "stdout",
     "output_type": "stream",
     "text": [
      "Financial Analysis\n",
      "-------------------\n",
      "Total number of Months: 86\n",
      "Total Profits and Losses:  38382578\n",
      "   Average monthly change:  0.0\n",
      "Greatest Increase in Profits:  ['Sep-2016', '768450']\n",
      "Greatest Decrease in Profits:  ['Apr-2010', '-69417']\n"
     ]
    }
   ],
   "source": [
    "import os\n",
    "import csv\n",
    "\n",
    "BudgetData = open(\"budget_data.csv\")\n",
    "\n",
    "# print(BudgetData.read())\n",
    "print(\"Financial Analysis\")\n",
    "print(\"-------------------\")\n",
    "\n",
    "\n",
    "# Count number of months\n",
    "reader = csv.reader(BudgetData,delimiter = \",\")\n",
    "months = list(reader)\n",
    "MoCount = len(months) - 1\n",
    "print(\"Total number of Months:\", MoCount)\n",
    "\n",
    "with open(\"budget_data.csv\", newline=\"\") as BudgetData:\n",
    "    budgetD = csv.reader(BudgetData)\n",
    "    \n",
    "    TotalPL = 0\n",
    "    Ch = 0\n",
    "    TotalCh = 0\n",
    "    PLPrevious = 867884\n",
    "    PLCurrent = int(row[1])\n",
    "    \n",
    "    \n",
    "    next(budgetD)\n",
    "    for row in budgetD:\n",
    "        \n",
    "        TotalPL += int(row[1])\n",
    "        \n",
    "        Ch = (PLCurrent - PLPrevious)\n",
    "        TotalCh += Ch\n",
    "        PLPrevious = PLCurrent\n",
    "\n",
    "        \n",
    "#     print(\"Total Number of Months: \", MoCount)    \n",
    "    print(\"Total Profits and Losses: \", TotalPL)\n",
    "    print(\"   Average monthly change: \", TotalCh / (MoCount - 1))\n",
    "\n",
    "with open(\"budget_data.csv\", newline=\"\") as BudgetData:\n",
    "    budgetD = csv.reader(BudgetData)\n",
    "    \n",
    "    next(budgetD)\n",
    "    for row in budgetD:\n",
    "    \n",
    "        PLMax = max(budgetD)\n",
    "\n",
    "with open(\"budget_data.csv\", newline=\"\") as BudgetData:\n",
    "    budgetD = csv.reader(BudgetData)\n",
    "    \n",
    "    PLMin = min(budgetD)\n",
    "\n",
    "    print(\"Greatest Increase in Profits: \", PLMax)\n",
    "    print(\"Greatest Decrease in Profits: \", PLMin)"
   ]
  },
  {
   "cell_type": "code",
   "execution_count": 2,
   "metadata": {},
   "outputs": [
    {
     "name": "stdout",
     "output_type": "stream",
     "text": [
      "Greatest Increase in Profits:  ['Sep-2016', '768450']\n",
      "Greatest Decrease in Profits:  ['Apr-2010', '-69417']\n"
     ]
    }
   ],
   "source": [
    "import os\n",
    "import csv\n",
    "\n",
    "with open(\"budget_data.csv\", newline=\"\") as BudgetData:\n",
    "    budgetD = csv.reader(BudgetData)\n",
    "    \n",
    "    next(budgetD)\n",
    "    for row in budgetD:\n",
    "    \n",
    "        PLMax = max(budgetD)\n",
    "\n",
    "with open(\"budget_data.csv\", newline=\"\") as BudgetData:\n",
    "    budgetD = csv.reader(BudgetData)\n",
    "    \n",
    "    PLMin = min(budgetD)\n",
    "\n",
    "    print(\"Greatest Increase in Profits: \", PLMax)\n",
    "    print(\"Greatest Decrease in Profits: \", PLMin)\n",
    "    "
   ]
  },
  {
   "cell_type": "code",
   "execution_count": null,
   "metadata": {},
   "outputs": [],
   "source": [
    "DataList = [10,20,30,40,50,60,70,80]\n",
    "TotalD = 0\n",
    "Ch = 0\n",
    "TotalCh = 0\n",
    "dataP = 10\n",
    "# print(DataList)\n",
    "for data in DataList:\n",
    "#     print(data)\n",
    "    TotalD += data\n",
    "    Ch = (data - dataP)\n",
    "    TotalCh += Ch\n",
    "    dataP = data\n",
    "    print(TotalD,Ch)\n",
    "    \n",
    "print(TotalD / len(DataList))\n",
    "print(TotalCh / (len(DataList)-1))"
   ]
  },
  {
   "cell_type": "code",
   "execution_count": 79,
   "metadata": {},
   "outputs": [
    {
     "name": "stdout",
     "output_type": "stream",
     "text": [
      "[10, 20, 30, 40, 50, 60, 70, 80]\n",
      "80\n",
      "10\n"
     ]
    }
   ],
   "source": [
    "DataList = [10,20,30,40,50,60,70,80]\n",
    "print(DataList)\n",
    "\n",
    "# for x in DataList: \n",
    "DLMax = max(DataList)\n",
    "DLMin = min(DataList)\n",
    "print(DLMax)\n",
    "print(DLMin)"
   ]
  },
  {
   "cell_type": "code",
   "execution_count": null,
   "metadata": {},
   "outputs": [],
   "source": []
  }
 ],
 "metadata": {
  "kernelspec": {
   "display_name": "Python 3",
   "language": "python",
   "name": "python3"
  },
  "language_info": {
   "codemirror_mode": {
    "name": "ipython",
    "version": 3
   },
   "file_extension": ".py",
   "mimetype": "text/x-python",
   "name": "python",
   "nbconvert_exporter": "python",
   "pygments_lexer": "ipython3",
   "version": "3.7.1"
  }
 },
 "nbformat": 4,
 "nbformat_minor": 2
}
